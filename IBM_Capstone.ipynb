{
 "nbformat": 4,
 "nbformat_minor": 2,
 "metadata": {
  "language_info": {
   "name": "python",
   "codemirror_mode": {
    "name": "ipython",
    "version": 3
   }
  },
  "orig_nbformat": 2,
  "file_extension": ".py",
  "mimetype": "text/x-python",
  "name": "python",
  "npconvert_exporter": "python",
  "pygments_lexer": "ipython3",
  "version": 3
 },
 "cells": [
  {
   "cell_type": "markdown",
   "execution_count": null,
   "metadata": {},
   "outputs": [],
   "source": [
    "## Problem Statement"
   ]
  },
  {
   "cell_type": "markdown",
   "execution_count": null,
   "metadata": {},
   "outputs": [],
   "source": [
    "**Peruvian food**, in recent years has been recognized internationally as **one of the best food in the world**, so its demand has been **increasing** in the main capitals of the world.\n",
    "\n",
    "Toronto is one of the most diverse capitals in the world, which is why we want to **open a new Peruvian food restaurant** in this capital, so you want to know which are the districts with the highest and lowest saturation of this type of food."
   ]
  },
  {
   "cell_type": "markdown",
   "execution_count": null,
   "metadata": {},
   "outputs": [],
   "source": [
    "## Data Collection"
   ]
  },
  {
   "cell_type": "markdown",
   "execution_count": null,
   "metadata": {},
   "outputs": [],
   "source": [
    "To consider the above problem the data is collected as following:\n",
    "- List of Neighborhoods in Toronto, Canada.\n",
    "- Latitude and Longitude of this Neighborhood."
   ]
  }
 ]
}