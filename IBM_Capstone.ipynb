{
 "nbformat": 4,
 "nbformat_minor": 2,
 "metadata": {
  "language_info": {
   "name": "python",
   "codemirror_mode": {
    "name": "ipython",
    "version": 3
   },
   "version": "3.6.9"
  },
  "orig_nbformat": 2,
  "file_extension": ".py",
  "mimetype": "text/x-python",
  "name": "python",
  "npconvert_exporter": "python",
  "pygments_lexer": "ipython3",
  "version": 3
 },
 "cells": [
  {
   "cell_type": "markdown",
   "execution_count": null,
   "metadata": {},
   "outputs": [],
   "source": [
    "# New Peruvian Food Restaurant in Toronto"
   ]
  },
  {
   "cell_type": "markdown",
   "execution_count": null,
   "metadata": {},
   "outputs": [],
   "source": [
    "## Introduction"
   ]
  },
  {
   "cell_type": "markdown",
   "execution_count": null,
   "metadata": {},
   "outputs": [],
   "source": [
    "**Peruvian food**, in recent years has been recognized internationally as **one of the best food in the world** (Ref: National Geographic [The world's best food destinations in 2019] (https://www.nationalgeographic.co.uk/travel/2019/02/worlds-best-food-destinations-2019)), so its demand has been **increasing** in the main capitals of the world."
   ]
  },
  {
   "cell_type": "markdown",
   "execution_count": 2,
   "metadata": {},
   "outputs": [],
   "source": [
    "## Problem Statement"
   ]
  },
  {
   "cell_type": "markdown",
   "execution_count": null,
   "metadata": {},
   "outputs": [],
   "source": [
    "Toronto is one of the cities with the greatest ethnic diversity in Canada, and therefore multicultural. That's why we want to **open a new Peruvian food restaurant** in this capital, so you want to know which are the districts with the highest and lowest saturation of this type of food. Knowing this, we can choose which is the best location for our new restaurant."
   ]
  },
  {
   "cell_type": "markdown",
   "execution_count": null,
   "metadata": {},
   "outputs": [],
   "source": [
    "## Data Collection"
   ]
  },
  {
   "cell_type": "markdown",
   "execution_count": 3,
   "metadata": {},
   "outputs": [
    {
     "ename": "SyntaxError",
     "evalue": "invalid syntax (<ipython-input-3-677b940ce414>, line 1)",
     "output_type": "error",
     "traceback": [
      "\u001b[0;36m  File \u001b[0;32m\"<ipython-input-3-677b940ce414>\"\u001b[0;36m, line \u001b[0;32m1\u001b[0m\n\u001b[0;31m    To consider the above problem the data is collected as following:\u001b[0m\n\u001b[0m              ^\u001b[0m\n\u001b[0;31mSyntaxError\u001b[0m\u001b[0;31m:\u001b[0m invalid syntax\n"
     ]
    }
   ],
   "source": [
    "To consider the above problem the data is collected as following:\n",
    "\n",
    "- List of Neighborhoods in Toronto, Canada.\n",
    "- Latitude and Longitude of this Neighborhood.\n",
    "- Foursquare API."
   ]
  },
  {
   "cell_type": "code",
   "execution_count": null,
   "metadata": {},
   "outputs": [],
   "source": []
  }
 ]
}